{
 "cells": [
  {
   "cell_type": "markdown",
   "metadata": {},
   "source": [
    "# 99% Confidence Interval for Mean Durability (Print-Heads)\n",
    "\n",
    "**Task:** Build a 99% confidence interval for the mean number of characters printed before the print-head fails, using the sample standard deviation.\n",
    "\n",
    "## Step 1: State the Data\n",
    "The sample data (in millions of characters):\n",
    "\n",
    "`[1.13, 1.55, 1.43, 0.92, 1.25, 1.36, 1.32, 0.85, 1.07, 1.48, 1.20, 1.33, 1.18, 1.22, 1.29]`"
   ]
  },
  {
   "cell_type": "markdown",
   "metadata": {},
   "source": [
    "## Step 2: Why Use the t-Distribution?\n",
    "- The sample size is small (n = 15).\n",
    "- The population standard deviation is unknown.\n",
    "- The t-distribution accounts for extra uncertainty in estimating the population standard deviation from the sample."
   ]
  },
  {
   "cell_type": "code",
   "execution_count": 1,
   "metadata": {},
   "outputs": [
    {
     "name": "stdout",
     "output_type": "stream",
     "text": [
      "Sample mean: 1.239\n",
      "Sample standard deviation: 0.193\n"
     ]
    }
   ],
   "source": [
    "import numpy as np\n",
    "data = [1.13, 1.55, 1.43, 0.92, 1.25, 1.36, 1.32, 0.85, 1.07, 1.48, 1.20, 1.33, 1.18, 1.22, 1.29]\n",
    "n = len(data)\n",
    "mean = np.mean(data)\n",
    "std_dev = np.std(data, ddof=1)  # sample standard deviation\n",
    "print(f'Sample mean: {mean:.3f}')\n",
    "print(f'Sample standard deviation: {std_dev:.3f}')"
   ]
  },
  {
   "cell_type": "markdown",
   "metadata": {},
   "source": [
    "## Step 4: Find the t-Critical Value\n",
    "- For a 99% confidence interval, the significance level (alpha) is 0.01.\n",
    "- Degrees of freedom (df) = n - 1 = 14.\n",
    "- We'll use scipy.stats to find the t-critical value."
   ]
  },
  {
   "cell_type": "code",
   "execution_count": 2,
   "metadata": {},
   "outputs": [
    {
     "name": "stdout",
     "output_type": "stream",
     "text": [
      "t-critical value for 99% CI and 14 df: 2.977\n"
     ]
    }
   ],
   "source": [
    "# Step 4: Find the t-Critical Value\n",
    "import scipy.stats as stats  # Import scipy.stats for statistical functions\n",
    "\n",
    "confidence = 0.99  # 99% confidence level\n",
    "alpha = 1 - confidence  # Significance level\n",
    "df = n - 1  # Degrees of freedom\n",
    "\n",
    "# Find the t-critical value for the two-tailed test\n",
    "t_critical = stats.t.ppf(1 - alpha/2, df)\n",
    "print(f't-critical value for 99% CI and {df} df: {t_critical:.3f}')"
   ]
  },
  {
   "cell_type": "markdown",
   "metadata": {},
   "source": [
    "## Step 5: Calculate the Margin of Error and Confidence Interval\n",
    "- Margin of error = t-critical × (sample standard deviation / sqrt(n))\n",
    "- Confidence interval = sample mean ± margin of error"
   ]
  },
  {
   "cell_type": "code",
   "execution_count": 3,
   "metadata": {},
   "outputs": [
    {
     "name": "stdout",
     "output_type": "stream",
     "text": [
      "99% Confidence Interval: (1.090, 1.387)\n"
     ]
    }
   ],
   "source": [
    "# Step 5: Calculate the Margin of Error and Confidence Interval\n",
    "margin_of_error = t_critical * (std_dev / np.sqrt(n))  # Calculate margin of error\n",
    "ci_lower = mean - margin_of_error  # Lower bound of confidence interval\n",
    "ci_upper = mean + margin_of_error  # Upper bound of confidence interval\n",
    "\n",
    "print(f'99% Confidence Interval: ({ci_lower:.3f}, {ci_upper:.3f})')"
   ]
  },
  {
   "cell_type": "markdown",
   "metadata": {},
   "source": [
    "## Step 6: Interpretation\n",
    "We are 99% confident that the true mean durability (in millions of characters) of all print-heads lies within the calculated interval."
   ]
  }
 ],
 "metadata": {
  "kernelspec": {
   "display_name": "base",
   "language": "python",
   "name": "python3"
  },
  "language_info": {
   "codemirror_mode": {
    "name": "ipython",
    "version": 3
   },
   "file_extension": ".py",
   "mimetype": "text/x-python",
   "name": "python",
   "nbconvert_exporter": "python",
   "pygments_lexer": "ipython3",
   "version": "3.12.7"
  }
 },
 "nbformat": 4,
 "nbformat_minor": 2
}
