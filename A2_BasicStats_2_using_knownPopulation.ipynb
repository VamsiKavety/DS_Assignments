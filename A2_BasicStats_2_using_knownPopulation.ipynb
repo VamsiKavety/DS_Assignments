{
 "cells": [
  {
   "cell_type": "markdown",
   "metadata": {},
   "source": [
    "# 99% Confidence Interval for Mean Durability (Known Population Standard Deviation)\n",
    "\n",
    "**Task:** Build a 99% confidence interval for the mean number of characters printed before the print-head fails, using the known population standard deviation (0.2 million characters).\n",
    "\n",
    "## Why Use the z-Distribution?\n",
    "- When the population standard deviation is known, we use the z-distribution (normal distribution) instead of the t-distribution.\n",
    "- The formula for the confidence interval is based on the z-critical value."
   ]
  },
  {
   "cell_type": "code",
   "execution_count": 3,
   "metadata": {},
   "outputs": [
    {
     "name": "stdout",
     "output_type": "stream",
     "text": [
      "z-critical value for 99% CI: 2.576\n",
      "99% Confidence Interval with known population std dev: (1.106, 1.372)\n"
     ]
    }
   ],
   "source": [
    "import numpy as np  # Import numpy for numerical operations\n",
    "import scipy.stats as stats  # Import scipy.stats for statistical functions\n",
    "\n",
    "# Sample data (in millions of characters)\n",
    "data = [1.13, 1.55, 1.43, 0.92, 1.25, 1.36, 1.32, 0.85, 1.07, 1.48, 1.20, 1.33, 1.18, 1.22, 1.29]\n",
    "n = len(data)  # Sample size\n",
    "mean = np.mean(data)  # Calculate sample mean\n",
    "\n",
    "# Given population standard deviation\n",
    "pop_std_dev = 0.2  # Known population standard deviation (in millions)\n",
    "\n",
    "confidence = 0.99  # 99% confidence level\n",
    "alpha = 1 - confidence  # Significance level\n",
    "\n",
    "# Find the z-critical value for the two-tailed test\n",
    "z_critical = stats.norm.ppf(1 - alpha/2)\n",
    "print(f'z-critical value for 99% CI: {z_critical:.3f}')\n",
    "\n",
    "# Calculate the margin of error using the population standard deviation\n",
    "margin_of_error_z = z_critical * (pop_std_dev / np.sqrt(n))\n",
    "ci_lower_z = mean - margin_of_error_z  # Lower bound of confidence interval\n",
    "ci_upper_z = mean + margin_of_error_z  # Upper bound of confidence interval\n",
    "\n",
    "print(f'99% Confidence Interval with known population std dev: ({ci_lower_z:.3f}, {ci_upper_z:.3f})')"
   ]
  }
 ],
 "metadata": {
  "kernelspec": {
   "display_name": "base",
   "language": "python",
   "name": "python3"
  },
  "language_info": {
   "codemirror_mode": {
    "name": "ipython",
    "version": 3
   },
   "file_extension": ".py",
   "mimetype": "text/x-python",
   "name": "python",
   "nbconvert_exporter": "python",
   "pygments_lexer": "ipython3",
   "version": "3.12.7"
  }
 },
 "nbformat": 4,
 "nbformat_minor": 2
}
