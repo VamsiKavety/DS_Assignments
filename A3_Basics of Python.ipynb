{
 "cells": [
  {
   "cell_type": "markdown",
   "metadata": {},
   "source": [
    "Python Basics\n"
   ]
  },
  {
   "cell_type": "code",
   "execution_count": 1,
   "metadata": {},
   "outputs": [
    {
     "name": "stdout",
     "output_type": "stream",
     "text": [
      "2 is a prime number.\n"
     ]
    }
   ],
   "source": [
    "# Exercise 1: Prime Numbers\n",
    "# This program checks whether a given number is prime or not.\n",
    "\n",
    "def is_prime(n):\n",
    "    \"\"\"\n",
    "    Returns True if n is a prime number, else False.\n",
    "    \"\"\"\n",
    "    if n <= 1:\n",
    "        return False\n",
    "    for i in range(2, int(n**0.5) + 1):\n",
    "        if n % i == 0:\n",
    "            return False\n",
    "    return True\n",
    "\n",
    "# Example usage:\n",
    "num = int(input(\"Enter a number to check if it is prime: \"))\n",
    "if is_prime(num):\n",
    "    print(f\"{num} is a prime number.\")\n",
    "else:\n",
    "    print(f\"{num} is not a prime number.\")"
   ]
  },
  {
   "cell_type": "code",
   "execution_count": 1,
   "metadata": {},
   "outputs": [
    {
     "name": "stdout",
     "output_type": "stream",
     "text": [
      "Multiply 7 and 9\n",
      "Correct! Well done.\n"
     ]
    }
   ],
   "source": [
    "# Exercise 2: Product of Random Numbers\n",
    "# This program generates two random numbers and asks the user to enter their product.\n",
    "\n",
    "import random\n",
    "\n",
    "num1 = random.randint(1, 10)\n",
    "num2 = random.randint(1, 10)\n",
    "print(f\"Multiply {num1} and {num2}\")\n",
    "\n",
    "try:\n",
    "    user_answer = int(input(\"Enter the product: \"))\n",
    "    correct_answer = num1 * num2\n",
    "    if user_answer == correct_answer:\n",
    "        print(\"Correct! Well done.\")\n",
    "    else:\n",
    "        print(f\"Incorrect. The correct answer is {correct_answer}.\")\n",
    "except ValueError:\n",
    "    print(\"Please enter a valid integer.\")"
   ]
  },
  {
   "cell_type": "code",
   "execution_count": 2,
   "metadata": {},
   "outputs": [
    {
     "name": "stdout",
     "output_type": "stream",
     "text": [
      "Squares of even numbers from 100 to 200:\n",
      "100^2 = 10000\n",
      "102^2 = 10404\n",
      "104^2 = 10816\n",
      "106^2 = 11236\n",
      "108^2 = 11664\n",
      "110^2 = 12100\n",
      "112^2 = 12544\n",
      "114^2 = 12996\n",
      "116^2 = 13456\n",
      "118^2 = 13924\n",
      "120^2 = 14400\n",
      "122^2 = 14884\n",
      "124^2 = 15376\n",
      "126^2 = 15876\n",
      "128^2 = 16384\n",
      "130^2 = 16900\n",
      "132^2 = 17424\n",
      "134^2 = 17956\n",
      "136^2 = 18496\n",
      "138^2 = 19044\n",
      "140^2 = 19600\n",
      "142^2 = 20164\n",
      "144^2 = 20736\n",
      "146^2 = 21316\n",
      "148^2 = 21904\n",
      "150^2 = 22500\n",
      "152^2 = 23104\n",
      "154^2 = 23716\n",
      "156^2 = 24336\n",
      "158^2 = 24964\n",
      "160^2 = 25600\n",
      "162^2 = 26244\n",
      "164^2 = 26896\n",
      "166^2 = 27556\n",
      "168^2 = 28224\n",
      "170^2 = 28900\n",
      "172^2 = 29584\n",
      "174^2 = 30276\n",
      "176^2 = 30976\n",
      "178^2 = 31684\n",
      "180^2 = 32400\n",
      "182^2 = 33124\n",
      "184^2 = 33856\n",
      "186^2 = 34596\n",
      "188^2 = 35344\n",
      "190^2 = 36100\n",
      "192^2 = 36864\n",
      "194^2 = 37636\n",
      "196^2 = 38416\n",
      "198^2 = 39204\n",
      "200^2 = 40000\n"
     ]
    }
   ],
   "source": [
    "# Exercise 3: Squares of Even/Odd Numbers\n",
    "# This script prints the squares of all even numbers within the range of 100 to 200.\n",
    "# Choice: EVEN numbers\n",
    "\n",
    "print(\"Squares of even numbers from 100 to 200:\")\n",
    "for num in range(100, 201):\n",
    "    if num % 2 == 0:\n",
    "        print(f\"{num}^2 = {num**2}\")"
   ]
  },
  {
   "cell_type": "code",
   "execution_count": 3,
   "metadata": {},
   "outputs": [
    {
     "name": "stdout",
     "output_type": "stream",
     "text": [
      "'This': 2\n",
      "'is': 1\n",
      "'a': 1\n",
      "'sample': 1\n",
      "'text.': 1\n",
      "'text': 1\n",
      "'will': 1\n",
      "'be': 1\n",
      "'used': 1\n",
      "'to': 1\n",
      "'demonstrate': 1\n",
      "'the': 1\n",
      "'word': 1\n",
      "'counter.': 1\n"
     ]
    }
   ],
   "source": [
    "# Exercise 4: Word Counter\n",
    "# This program counts the number of occurrences of each word in a given text.\n",
    "\n",
    "input_text = \"This is a sample text. This text will be used to demonstrate the word counter.\"\n",
    "\n",
    "# Split the text into words\n",
    "words = input_text.split()\n",
    "\n",
    "# Create a dictionary to store word counts\n",
    "word_count = {}\n",
    "\n",
    "for word in words:\n",
    "    word_count[word] = word_count.get(word, 0) + 1\n",
    "\n",
    "# Print the word counts\n",
    "for word, count in word_count.items():\n",
    "    print(f\"'{word}': {count}\")"
   ]
  },
  {
   "cell_type": "code",
   "execution_count": null,
   "metadata": {},
   "outputs": [
    {
     "name": "stdout",
     "output_type": "stream",
     "text": [
      "True\n"
     ]
    }
   ],
   "source": [
    "# Exercise 5: Check for Palindrome\n",
    "# This function checks if a string is a palindrome, ignoring spaces, punctuation, and capitalization.\n",
    "# String : A man a plan a canal Panama\n",
    "\n",
    "def is_palindrome(s):\n",
    "    \"\"\"\n",
    "    Returns True if s is a palindrome, False otherwise.\n",
    "    Ignores spaces, punctuation, and capitalization.\n",
    "    \"\"\"\n",
    "    cleaned = ''.join(char.lower() for char in s if char.isalnum())\n",
    "    return cleaned == cleaned[::-1]\n",
    "\n",
    "# Example usage:\n",
    "test_str = input(\"Enter a string to check for palindrome: \")\n",
    "if is_palindrome(test_str):\n",
    "    print(\"True\")\n",
    "else:\n",
    "    print(\"False\")\n",
    "\n",
    "\n",
    "# Enter the String : A man a plan a canal Panama"
   ]
  }
 ],
 "metadata": {
  "kernelspec": {
   "display_name": "base",
   "language": "python",
   "name": "python3"
  },
  "language_info": {
   "codemirror_mode": {
    "name": "ipython",
    "version": 3
   },
   "file_extension": ".py",
   "mimetype": "text/x-python",
   "name": "python",
   "nbconvert_exporter": "python",
   "pygments_lexer": "ipython3",
   "version": "3.12.7"
  }
 },
 "nbformat": 4,
 "nbformat_minor": 2
}
