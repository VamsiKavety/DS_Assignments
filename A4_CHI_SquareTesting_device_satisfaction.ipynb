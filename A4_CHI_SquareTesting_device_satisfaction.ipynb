{
 "cells": [
  {
   "cell_type": "markdown",
   "metadata": {},
   "source": [
    "# Chi-Square Test: Association between Device Type and Customer Satisfaction\n",
    "\n",
    "This notebook analyzes whether there is a significant association between the type of smart home device purchased (Smart Thermostats vs. Smart Lights) and customer satisfaction level using the Chi-Square test for independence."
   ]
  },
  {
   "cell_type": "markdown",
   "metadata": {},
   "source": [
    "## 1. State the Hypotheses\n",
    "\n",
    "- **Null Hypothesis (H0):** There is no association between device type and customer satisfaction.\n",
    "- **Alternative Hypothesis (H1):** There is an association between device type and customer satisfaction."
   ]
  },
  {
   "cell_type": "markdown",
   "metadata": {},
   "source": [
    "## 2. Data Preparation\n",
    "\n",
    "The data is summarized in a contingency table showing the counts of customers in each satisfaction level for both types of devices."
   ]
  },
  {
   "cell_type": "code",
   "execution_count": 1,
   "metadata": {},
   "outputs": [
    {
     "name": "stdout",
     "output_type": "stream",
     "text": [
      "Observed Contingency Table:\n",
      "[[ 50  70]\n",
      " [ 80 100]\n",
      " [ 60  90]\n",
      " [ 30  50]\n",
      " [ 20  50]]\n"
     ]
    }
   ],
   "source": [
    "import numpy as np\n",
    "\n",
    "# Contingency Table\n",
    "# Rows: Satisfaction levels\n",
    "# Columns: [Smart Thermostat, Smart Light]\n",
    "observed = np.array([\n",
    "    [50, 70],   # Very Satisfied\n",
    "    [80, 100],  # Satisfied\n",
    "    [60, 90],   # Neutral\n",
    "    [30, 50],   # Unsatisfied\n",
    "    [20, 50]    # Very Unsatisfied\n",
    "])\n",
    "\n",
    "print(\"Observed Contingency Table:\")\n",
    "print(observed)"
   ]
  },
  {
   "cell_type": "markdown",
   "metadata": {},
   "source": [
    "## 3. Compute the Chi-Square Statistic\n",
    "\n",
    "We use the `scipy.stats.chi2_contingency` function to compute the Chi-Square statistic, degrees of freedom, expected frequencies, and p-value."
   ]
  },
  {
   "cell_type": "code",
   "execution_count": 2,
   "metadata": {},
   "outputs": [
    {
     "name": "stdout",
     "output_type": "stream",
     "text": [
      "Chi-Square Statistic: 5.6382\n",
      "Degrees of Freedom: 4\n",
      "Expected Frequencies Table:\n",
      "[[ 48.  72.]\n",
      " [ 72. 108.]\n",
      " [ 60.  90.]\n",
      " [ 32.  48.]\n",
      " [ 28.  42.]]\n"
     ]
    }
   ],
   "source": [
    "from scipy.stats import chi2_contingency\n",
    "\n",
    "chi2_stat, p, dof, expected = chi2_contingency(observed)\n",
    "\n",
    "print(\"Chi-Square Statistic: {:.4f}\".format(chi2_stat))\n",
    "print(\"Degrees of Freedom:\", dof)\n",
    "print(\"Expected Frequencies Table:\")\n",
    "print(np.round(expected, 2))"
   ]
  },
  {
   "cell_type": "markdown",
   "metadata": {},
   "source": [
    "## 4. Determine the Critical Value\n",
    "\n",
    "We use a significance level (alpha) of 0.05 and the degrees of freedom from the previous step to find the critical value."
   ]
  },
  {
   "cell_type": "code",
   "execution_count": 3,
   "metadata": {},
   "outputs": [
    {
     "name": "stdout",
     "output_type": "stream",
     "text": [
      "Significance Level (alpha): 0.05\n",
      "Critical Value (Chi-Square, 4 df, alpha=0.05): 9.4877\n"
     ]
    }
   ],
   "source": [
    "from scipy.stats import chi2\n",
    "\n",
    "alpha = 0.05\n",
    "critical_value = chi2.ppf(1 - alpha, dof)\n",
    "print(\"Significance Level (alpha):\", alpha)\n",
    "print(\"Critical Value (Chi-Square, {} df, alpha={}): {:.4f}\".format(dof, alpha, critical_value))"
   ]
  },
  {
   "cell_type": "markdown",
   "metadata": {},
   "source": [
    "## 5. Make a Decision\n",
    "\n",
    "Compare the Chi-Square statistic with the critical value to decide whether to reject the null hypothesis. Also, consider the p-value."
   ]
  },
  {
   "cell_type": "code",
   "execution_count": 4,
   "metadata": {},
   "outputs": [
    {
     "name": "stdout",
     "output_type": "stream",
     "text": [
      "Since the Chi-Square statistic (5.6382) <= Critical value (9.4877), we fail to reject the null hypothesis.\n",
      "Conclusion: There is no significant association between device type and customer satisfaction.\n",
      "\n",
      "P-value: 0.2278\n",
      "Since the p-value is greater than alpha, this also supports failing to reject the null hypothesis.\n"
     ]
    }
   ],
   "source": [
    "if chi2_stat > critical_value:\n",
    "    print(f\"Since the Chi-Square statistic ({chi2_stat:.4f}) > Critical value ({critical_value:.4f}), we reject the null hypothesis.\")\n",
    "    print(\"Conclusion: There is a significant association between device type and customer satisfaction.\")\n",
    "else:\n",
    "    print(f\"Since the Chi-Square statistic ({chi2_stat:.4f}) <= Critical value ({critical_value:.4f}), we fail to reject the null hypothesis.\")\n",
    "    print(\"Conclusion: There is no significant association between device type and customer satisfaction.\")\n",
    "\n",
    "print(f\"\\nP-value: {p:.4f}\")\n",
    "if p < alpha:\n",
    "    print(\"Since the p-value is less than alpha, this also supports rejecting the null hypothesis.\")\n",
    "else:\n",
    "    print(\"Since the p-value is greater than alpha, this also supports failing to reject the null hypothesis.\")"
   ]
  }
 ],
 "metadata": {
  "kernelspec": {
   "display_name": "base",
   "language": "python",
   "name": "python3"
  },
  "language_info": {
   "codemirror_mode": {
    "name": "ipython",
    "version": 3
   },
   "file_extension": ".py",
   "mimetype": "text/x-python",
   "name": "python",
   "nbconvert_exporter": "python",
   "pygments_lexer": "ipython3",
   "version": "3.12.7"
  }
 },
 "nbformat": 4,
 "nbformat_minor": 2
}
