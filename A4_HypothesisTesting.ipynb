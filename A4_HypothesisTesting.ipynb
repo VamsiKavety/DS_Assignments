{
 "cells": [
  {
   "cell_type": "markdown",
   "metadata": {},
   "source": [
    "# Hypothesis Testing: Bombay Hospitality Ltd.\n",
    "\n",
    "## Background\n",
    "Bombay Hospitality Ltd. operates a franchise model for producing exotic Norwegian dinners throughout New England. The operating cost for a franchise in a week (W) is given by the equation $W = 1000 + 5X$, where $X$ represents the number of units produced in a week. Recent feedback from restaurant owners suggests that this cost model may no longer be accurate, as their observed weekly operating costs are higher.\n",
    "\n",
    "**Objective:**  \n",
    "To investigate the restaurant owners' claim about the increase in weekly operating costs using hypothesis testing."
   ]
  },
  {
   "cell_type": "markdown",
   "metadata": {},
   "source": [
    "## 1. State the Hypotheses\n",
    "\n",
    "Let $\\\\mu_0$ = Theoretical mean weekly cost according to the model.\n",
    "\n",
    "- **Null Hypothesis ($H_0$):** $\\\\mu = \\\\mu_0$ (The mean weekly cost is as per the model.)\n",
    "- **Alternative Hypothesis ($H_1$):** $\\\\mu > \\\\mu_0$ (The mean weekly cost is higher than the model.)"
   ]
  },
  {
   "cell_type": "markdown",
   "metadata": {},
   "source": [
    "## 2. Calculate the Test Statistic\n",
    "\n",
    "Given:\n",
    "- Sample mean ($\\\\bar{x}$) = Rs. 3,050\n",
    "- Theoretical mean ($\\\\mu_0$) = $1000 + 5 \\\\times 600 = 4000$\n",
    "- Standard deviation of cost ($\\\\sigma$) = $5 \\\\times 25 = 125$\n",
    "- Sample size ($n$) = 25\n",
    "\n",
    "The test statistic (z) is given by:\n",
    "$$z = \\\\frac{\\\\bar{x} - \\\\mu_0}{\\\\sigma / \\\\sqrt{n}}$$"
   ]
  },
  {
   "cell_type": "code",
   "execution_count": 11,
   "metadata": {},
   "outputs": [
    {
     "name": "stdout",
     "output_type": "stream",
     "text": [
      "Theoretical mean (μ0): 4000\n",
      "Sample mean (x̄): 3050\n",
      "Standard deviation of cost (σ): 125\n",
      "Sample size (n): 25\n",
      "Standard error (SE): 25.00\n",
      "Test statistic (z): -38.00\n"
     ]
    }
   ],
   "source": [
    "import math\n",
    "from scipy.stats import norm\n",
    "\n",
    "# Given values\n",
    "sample_mean = 3050\n",
    "X_mean = 600\n",
    "model_mean = 1000 + 5 * X_mean  # μ0\n",
    "sigma_X = 25\n",
    "sigma_cost = 5 * sigma_X       # σ\n",
    "n = 25\n",
    "\n",
    "# Standard error\n",
    "se = sigma_cost / math.sqrt(n)\n",
    "z = (sample_mean - model_mean) / se\n",
    "\n",
    "print(f'Theoretical mean (μ0): {model_mean}')\n",
    "print(f'Sample mean (x̄): {sample_mean}')\n",
    "print(f'Standard deviation of cost (σ): {sigma_cost}')\n",
    "print(f'Sample size (n): {n}')\n",
    "print(f'Standard error (SE): {se:.2f}')\n",
    "print(f'Test statistic (z): {z:.2f}')"
   ]
  },
  {
   "cell_type": "markdown",
   "metadata": {},
   "source": [
    "## 3. Determine the Critical Value\n",
    "\n",
    "For a one-tailed test at $\\\\alpha = 0.05$, the critical z-value is approximately 1.645.\n",
    "\n",
    "Let's confirm this using Python:"
   ]
  },
  {
   "cell_type": "code",
   "execution_count": 12,
   "metadata": {},
   "outputs": [
    {
     "name": "stdout",
     "output_type": "stream",
     "text": [
      "Critical value for α = 0.05 (one-tailed): 1.645\n"
     ]
    }
   ],
   "source": [
    "alpha = 0.05\n",
    "z_critical = norm.ppf(1 - alpha)\n",
    "print(f'Critical value for α = 0.05 (one-tailed): {z_critical:.3f}')"
   ]
  },
  {
   "cell_type": "markdown",
   "metadata": {},
   "source": [
    "## 4. Make a Decision\n",
    "\n",
    "- If $z > 1.645$, reject $H_0$.\n",
    "- Otherwise, do not reject $H_0$.\n",
    "\n",
    "Let's check:"
   ]
  },
  {
   "cell_type": "code",
   "execution_count": 13,
   "metadata": {},
   "outputs": [
    {
     "name": "stdout",
     "output_type": "stream",
     "text": [
      "Since z = -38.00 <= 1.64, we do not reject the null hypothesis.\n"
     ]
    }
   ],
   "source": [
    "if z > z_critical:\n",
    "    print(f'Since z = {z:.2f} > {z_critical:.2f}, we reject the null hypothesis.')\n",
    "else:\n",
    "    print(f'Since z = {z:.2f} <= {z_critical:.2f}, we do not reject the null hypothesis.')"
   ]
  },
  {
   "cell_type": "markdown",
   "metadata": {},
   "source": [
    "## 5. Conclusion\n",
    "\n",
    "Based on the decision above, we conclude whether there is strong evidence to support the restaurant owners' claim that the weekly operating costs are higher than the model suggests."
   ]
  }
 ],
 "metadata": {
  "kernelspec": {
   "display_name": "base",
   "language": "python",
   "name": "python3"
  },
  "language_info": {
   "codemirror_mode": {
    "name": "ipython",
    "version": 3
   },
   "file_extension": ".py",
   "mimetype": "text/x-python",
   "name": "python",
   "nbconvert_exporter": "python",
   "pygments_lexer": "ipython3",
   "version": "3.12.7"
  }
 },
 "nbformat": 4,
 "nbformat_minor": 2
}
